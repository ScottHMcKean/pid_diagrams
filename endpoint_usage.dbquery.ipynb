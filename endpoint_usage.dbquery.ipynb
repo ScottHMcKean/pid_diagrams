{
 "cells": [
  {
   "cell_type": "code",
   "execution_count": 0,
   "metadata": {
    "application/vnd.databricks.v1+cell": {
     "cellMetadata": {
      "byteLimit": 10485760,
      "rowLimit": 1000
     },
     "inputWidgets": {},
     "nuid": "703c4260-b500-41a9-8f3d-7e297276fb51",
     "showTitle": false,
     "tableResultSettingsMap": {},
     "title": ""
    }
   },
   "outputs": [],
   "source": [
    "SELECT \n",
    "    sum(input_token_count)*3/1E6 AS input_dollars,\n",
    "    sum(output_token_count)*15/1E6 AS output_dollars\n",
    "FROM system.serving.endpoint_usage\n",
    "WHERE requester = 'scott.mckean@databricks.com'\n",
    "AND served_entity_id = '91b3b8ee684931b1aa0a645fa32e797b'\n",
    "AND date(request_time) >= '2025-05-01'"
   ]
  }
 ],
 "metadata": {
  "application/vnd.databricks.v1+notebook": {
   "computePreferences": null,
   "dashboards": [],
   "environmentMetadata": null,
   "inputWidgetPreferences": null,
   "language": "sql",
   "notebookMetadata": {
    "sqlQueryOptions": {
     "applyAutoLimit": true,
     "catalog": "main",
     "schema": "&"
    }
   },
   "notebookName": "endpoint_usage.dbquery.ipynb",
   "widgets": {}
  },
  "language_info": {
   "name": "sql"
  }
 },
 "nbformat": 4,
 "nbformat_minor": 0
}
