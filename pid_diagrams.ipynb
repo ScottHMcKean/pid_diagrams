{
 "cells": [
  {
   "cell_type": "markdown",
   "metadata": {
    "application/vnd.databricks.v1+cell": {
     "cellMetadata": {},
     "inputWidgets": {},
     "nuid": "c1d43eed-658c-45ad-bd54-b6d72409bd02",
     "showTitle": false,
     "tableResultSettingsMap": {},
     "title": ""
    }
   },
   "source": []
  },
  {
   "cell_type": "code",
   "execution_count": 0,
   "metadata": {
    "application/vnd.databricks.v1+cell": {
     "cellMetadata": {
      "byteLimit": 2048000,
      "rowLimit": 10000
     },
     "inputWidgets": {},
     "nuid": "1f0ffec7-fcad-475a-943c-19c73ecdc63f",
     "showTitle": false,
     "tableResultSettingsMap": {},
     "title": ""
    }
   },
   "outputs": [],
   "source": [
    "%pip install pymupdf openai\n",
    "%restart_python"
   ]
  },
  {
   "cell_type": "markdown",
   "metadata": {
    "application/vnd.databricks.v1+cell": {
     "cellMetadata": {},
     "inputWidgets": {},
     "nuid": "b87cdce4-0f57-4384-a961-9b43396b1c00",
     "showTitle": false,
     "tableResultSettingsMap": {},
     "title": ""
    }
   },
   "source": [
    "## Ingest Files\n",
    "Download process and instrumentation diagrams. We use an md5 hash to encode the file name and ensure uniqueness."
   ]
  },
  {
   "cell_type": "code",
   "execution_count": 0,
   "metadata": {
    "application/vnd.databricks.v1+cell": {
     "cellMetadata": {
      "byteLimit": 2048000,
      "rowLimit": 10000
     },
     "inputWidgets": {},
     "nuid": "18a152a6-04d1-4490-8799-4c159bdb2b98",
     "showTitle": false,
     "tableResultSettingsMap": {},
     "title": ""
    }
   },
   "outputs": [],
   "source": [
    "# import requests\n",
    "# import hashlib\n",
    "\n",
    "# url = \"https://open.alberta.ca/dataset/46ddba1a-7b86-4d7c-b8b6-8fe33a60fada/resource/a82b9bc3-37a9-4447-8d2f-f5b55a5c3353/download/facilitydrawings.pdf\"\n",
    "# hashed_url = hashlib.md5(url.encode()).hexdigest()\n",
    "# raw_vol_path = \"/Volumes/shm/pid/raw_pdfs/\"\n",
    "# image_vol_path = \"/Volumes/shm/pid/pdf_images/\"\n",
    "\n",
    "# raw_pdf_file_path = raw_vol_path + hashed_url + '.pdf'\n",
    "\n",
    "# response = requests.get(url)\n",
    "# with open(raw_pdf_file_path, 'wb') as file:\n",
    "#     file.write(response.content)"
   ]
  },
  {
   "cell_type": "code",
   "execution_count": 0,
   "metadata": {
    "application/vnd.databricks.v1+cell": {
     "cellMetadata": {
      "byteLimit": 2048000,
      "rowLimit": 10000
     },
     "inputWidgets": {},
     "nuid": "c5215b6c-e433-468b-bbe9-66e93b08a9d7",
     "showTitle": false,
     "tableResultSettingsMap": {},
     "title": ""
    }
   },
   "outputs": [],
   "source": [
    "# import requests\n",
    "# import hashlib\n",
    "\n",
    "# pdf_name = \"ALB-701-PID-PR-005046-003_3DD0.1.pdf\"\n",
    "# hashed_name = hashlib.md5(pdf_name.encode()).hexdigest()\n",
    "# raw_vol_path = \"/Volumes/shm/pid/raw_pdfs/ALB/with_load_sheet/\"\n",
    "# image_vol_path = \"/Volumes/shm/pid/pdf_images/ALB/with_load_sheet/\"\n",
    "\n",
    "# raw_pdf_file_path = raw_vol_path + pdf_name\n",
    "# hashed_pdf_file_path = raw_vol_path + 'hashed/' + hashed_name + '.pdf'\n",
    "\n",
    "# with open(raw_pdf_file_path, \"rb\") as src, open(hashed_pdf_file_path, \"wb\") as dst:\n",
    "#     dst.write(src.read())"
   ]
  },
  {
   "cell_type": "markdown",
   "metadata": {
    "application/vnd.databricks.v1+cell": {
     "cellMetadata": {},
     "inputWidgets": {},
     "nuid": "025f636a-d168-41d8-9bd3-9573f8e6853c",
     "showTitle": false,
     "tableResultSettingsMap": {},
     "title": ""
    }
   },
   "source": [
    "We currently use PyMuPDF for splitting the pages. The license isn't great, but there are many other options. This is the simplest for now."
   ]
  },
  {
   "cell_type": "code",
   "execution_count": 0,
   "metadata": {
    "application/vnd.databricks.v1+cell": {
     "cellMetadata": {
      "byteLimit": 2048000,
      "rowLimit": 10000
     },
     "inputWidgets": {},
     "nuid": "ffed0d6e-f550-4cad-bc9e-aff5b236e37a",
     "showTitle": false,
     "tableResultSettingsMap": {},
     "title": ""
    }
   },
   "outputs": [],
   "source": [
    "# import fitz  # PyMuPDF\n",
    "# from pathlib import Path\n",
    "\n",
    "# doc_dir = Path(image_vol_path) / hashed_url\n",
    "# doc_dir.mkdir(exist_ok=True)\n",
    "\n",
    "# doc = fitz.open(raw_pdf_file_path)\n",
    "# for page_num in range(len(doc)):\n",
    "#     page = doc.load_page(page_num)\n",
    "#     pix = page.get_pixmap(dpi=200)\n",
    "#     pix.save(doc_dir / f\"page_{page_num+1}.png\")"
   ]
  },
  {
   "cell_type": "code",
   "execution_count": 0,
   "metadata": {
    "application/vnd.databricks.v1+cell": {
     "cellMetadata": {
      "byteLimit": 2048000,
      "rowLimit": 10000
     },
     "inputWidgets": {},
     "nuid": "9e69f219-dae2-4c45-bbcc-aba5cc758ad3",
     "showTitle": false,
     "tableResultSettingsMap": {},
     "title": ""
    }
   },
   "outputs": [],
   "source": [
    "# import fitz  # PyMuPDF\n",
    "# from pathlib import Path\n",
    "\n",
    "# doc_dir = Path(image_vol_path) / hashed_name\n",
    "# doc_dir.mkdir(exist_ok=True)\n",
    "\n",
    "# doc = fitz.open(raw_pdf_file_path)\n",
    "# for page_num in range(len(doc)):\n",
    "#     page = doc.load_page(page_num)\n",
    "#     pix = page.get_pixmap(dpi=200)\n",
    "#     pix.save(doc_dir / f\"page_{page_num+1}.png\")"
   ]
  },
  {
   "cell_type": "code",
   "execution_count": 0,
   "metadata": {
    "application/vnd.databricks.v1+cell": {
     "cellMetadata": {
      "byteLimit": 2048000,
      "rowLimit": 10000
     },
     "inputWidgets": {},
     "nuid": "8dff5c3a-6b97-4d8f-8e0d-e81851d2891f",
     "showTitle": false,
     "tableResultSettingsMap": {},
     "title": ""
    }
   },
   "outputs": [],
   "source": [
    "import hashlib\n",
    "import shutil\n",
    "from pathlib import Path\n",
    "import fitz  # PyMuPDF\n",
    "\n",
    "# Define your source and target dirs\n",
    "raw_vol_path   = Path(\"/Volumes/shm/pid/raw_pdfs/ALB/with_load_sheet/\")\n",
    "hashed_vol_path= raw_vol_path / \"hashed\"\n",
    "image_vol_path = Path(\"/Volumes/shm/pid/pdf_images/ALB/with_load_sheet/\")\n",
    "\n",
    "# Make sure the hashed-and-images dirs exist\n",
    "hashed_vol_path.mkdir(parents=True, exist_ok=True)\n",
    "image_vol_path.mkdir(parents=True, exist_ok=True)\n",
    "\n",
    "# Loop over every PDF in raw_vol_path\n",
    "for pdf_path in raw_vol_path.glob(\"*.pdf\"):\n",
    "    pdf_name    = pdf_path.name\n",
    "    hashed_name = hashlib.md5(pdf_name.encode()).hexdigest()\n",
    "    \n",
    "    # Copy the original PDF into the \"hashed\" subfolder under its MD5 name\n",
    "    target_pdf = hashed_vol_path / f\"{hashed_name}.pdf\"\n",
    "    shutil.copy2(pdf_path, target_pdf)\n",
    "\n",
    "    # Create a per-doc image folder\n",
    "    doc_img_dir = image_vol_path / hashed_name\n",
    "    doc_img_dir.mkdir(exist_ok=True)\n",
    "    \n",
    "    # Open & render pages to PNG\n",
    "    doc = fitz.open(str(pdf_path))\n",
    "    for page_num, page in enumerate(doc, start=1):\n",
    "        pix = page.get_pixmap(dpi=200)\n",
    "        out_path = doc_img_dir / f\"page_{page_num}.png\"\n",
    "        pix.save(out_path)"
   ]
  },
  {
   "cell_type": "markdown",
   "metadata": {
    "application/vnd.databricks.v1+cell": {
     "cellMetadata": {},
     "inputWidgets": {},
     "nuid": "d91a6991-ab2f-4c91-a270-56756bbedd60",
     "showTitle": false,
     "tableResultSettingsMap": {},
     "title": ""
    }
   },
   "source": [
    "## Classify Pages\n",
    "Now that we have individual images parsed out, we can begin scaled classification and parsing. First we want to do some basic classification on what type of document each page is. This would get scaled to do dynamic prompting and possible few shotting."
   ]
  },
  {
   "cell_type": "code",
   "execution_count": 0,
   "metadata": {
    "application/vnd.databricks.v1+cell": {
     "cellMetadata": {
      "byteLimit": 2048000,
      "rowLimit": 10000
     },
     "inputWidgets": {},
     "nuid": "17edc164-43df-49aa-92e8-5035f59c1efa",
     "showTitle": false,
     "tableResultSettingsMap": {},
     "title": ""
    }
   },
   "outputs": [],
   "source": [
    "for doc in doc_dir.glob(\"*.png\"):\n",
    "    print(doc.name)"
   ]
  },
  {
   "cell_type": "code",
   "execution_count": 0,
   "metadata": {
    "application/vnd.databricks.v1+cell": {
     "cellMetadata": {
      "byteLimit": 2048000,
      "rowLimit": 10000
     },
     "inputWidgets": {},
     "nuid": "dc46f209-498f-4266-a982-7850da486f12",
     "showTitle": false,
     "tableResultSettingsMap": {},
     "title": ""
    }
   },
   "outputs": [],
   "source": [
    "import base64\n",
    "image_data = base64.b64encode(doc.read_bytes()).decode(\"utf-8\")"
   ]
  },
  {
   "cell_type": "code",
   "execution_count": 0,
   "metadata": {
    "application/vnd.databricks.v1+cell": {
     "cellMetadata": {
      "byteLimit": 2048000,
      "rowLimit": 10000
     },
     "inputWidgets": {},
     "nuid": "53cc7809-d9a5-4acc-aee6-7d123cc5bdac",
     "showTitle": false,
     "tableResultSettingsMap": {},
     "title": ""
    }
   },
   "outputs": [],
   "source": [
    "from openai import OpenAI\n",
    "\n",
    "DATABRICKS_TOKEN = dbutils.notebook.entry_point.getDbutils().notebook().getContext().apiToken().get()\n",
    "\n",
    "client = OpenAI(\n",
    "  api_key=DATABRICKS_TOKEN,\n",
    "  base_url=\"https://adb-984752964297111.11.azuredatabricks.net/serving-endpoints\"\n",
    ")\n",
    "\n",
    "chat_completion = client.chat.completions.create(\n",
    "  messages=[\n",
    "    {\n",
    "      \"role\": \"system\",\n",
    "      \"content\": \"You are an AI assistant that can extract and analyze text from images.\"\n",
    "    },\n",
    "    {\n",
    "      \"role\": \"user\",\n",
    "      \"content\": [\n",
    "        {\"type\": \"text\", \"text\": \"\"\"\n",
    "          Extract the following information from this image: \n",
    "          - all title block information\n",
    "          - all comments\n",
    "          - all revisions with revision, the date in YYYYMMDD format, and description from the revision table\n",
    "          - all equipment tags (e.g. US-05-5)\n",
    "          - all line tags (e.g 2\"-SL-242XX6-SAB). \n",
    "          - image classification, one of process diagram, text or electrical diagram\n",
    "          \n",
    "          Provide the response in a json format. Do not interpret, translate, or clarify any aspects of the image, only parse the text and symbols that are there.\n",
    "          \n",
    "          First, extract title block and comments. Before providing the response, reflect on your response and make sure it is correct and complete. If there is any text, symbology, or diagram that hasn't been captured, add it to the uncaptured text. \n",
    "\n",
    "          Example:\n",
    "          {\n",
    "            title_block:\n",
    "            comments:\n",
    "            revision_history:\n",
    "            equipment_tags:\n",
    "            line_tags:\n",
    "            classification:\n",
    "            uncaptured:\n",
    "          }\n",
    "         \n",
    "        \"\"\"},\n",
    "        {\"type\": \"image_url\", \"image_url\": {\"url\": f\"data:image/jpeg;base64,{image_data}\"}}\n",
    "      ]\n",
    "    }\n",
    "  ],\n",
    "  model=\"databricks-claude-sonnet-4\"\n",
    ")\n",
    "\n",
    "parsed_text = chat_completion.choices[0].message.content\n",
    "print(parsed_text)"
   ]
  },
  {
   "cell_type": "code",
   "execution_count": 0,
   "metadata": {
    "application/vnd.databricks.v1+cell": {
     "cellMetadata": {},
     "inputWidgets": {},
     "nuid": "6699ea17-5603-4d8a-8f25-deb38405b47a",
     "showTitle": false,
     "tableResultSettingsMap": {},
     "title": ""
    }
   },
   "outputs": [],
   "source": []
  }
 ],
 "metadata": {
  "application/vnd.databricks.v1+notebook": {
   "computePreferences": null,
   "dashboards": [],
   "environmentMetadata": {
    "base_environment": "",
    "environment_version": "2"
   },
   "inputWidgetPreferences": null,
   "language": "python",
   "notebookMetadata": {
    "pythonIndentUnit": 2
   },
   "notebookName": "pid_diagrams",
   "widgets": {}
  },
  "language_info": {
   "name": "python"
  }
 },
 "nbformat": 4,
 "nbformat_minor": 0
}
