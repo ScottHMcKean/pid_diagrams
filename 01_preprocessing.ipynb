{
 "cells": [
  {
   "cell_type": "markdown",
   "metadata": {
    "application/vnd.databricks.v1+cell": {
     "cellMetadata": {},
     "inputWidgets": {},
     "nuid": "d2a42f7a-575d-4c9d-98c3-e0dd4a183ac2",
     "showTitle": false,
     "tableResultSettingsMap": {},
     "title": ""
    }
   },
   "source": [
    "# Preprocessing\n",
    "\n",
    "This notebook does preprocessing of PDFs, with the goal of\n",
    "- converting pdf to image files\n",
    "- getting one image per page\n",
    "- hashing the input\n",
    "- making a table"
   ]
  },
  {
   "cell_type": "code",
   "execution_count": 0,
   "metadata": {
    "application/vnd.databricks.v1+cell": {
     "cellMetadata": {
      "byteLimit": 2048000,
      "rowLimit": 10000
     },
     "inputWidgets": {},
     "nuid": "348eb3f9-382f-42b7-892e-0a793b0b370b",
     "showTitle": false,
     "tableResultSettingsMap": {},
     "title": ""
    }
   },
   "outputs": [],
   "source": [
    "%pip install pymupdf\n",
    "%restart_python"
   ]
  },
  {
   "cell_type": "markdown",
   "metadata": {
    "application/vnd.databricks.v1+cell": {
     "cellMetadata": {},
     "inputWidgets": {},
     "nuid": "bcb5dc3e-9b37-4e0b-962d-c8e2297f5024",
     "showTitle": false,
     "tableResultSettingsMap": {},
     "title": ""
    }
   },
   "source": [
    "## Ingest Files\n",
    "Download process and instrumentation diagrams. We use an md5 hash to encode the file name and ensure uniqueness."
   ]
  },
  {
   "cell_type": "code",
   "execution_count": 0,
   "metadata": {
    "application/vnd.databricks.v1+cell": {
     "cellMetadata": {
      "byteLimit": 2048000,
      "rowLimit": 10000
     },
     "inputWidgets": {},
     "nuid": "832c8ec8-682e-453e-b706-87197ba7571b",
     "showTitle": false,
     "tableResultSettingsMap": {},
     "title": ""
    }
   },
   "outputs": [],
   "source": [
    "import requests\n",
    "import hashlib\n",
    "\n",
    "url = \"https://open.alberta.ca/dataset/46ddba1a-7b86-4d7c-b8b6-8fe33a60fada/resource/a82b9bc3-37a9-4447-8d2f-f5b55a5c3353/download/facilitydrawings.pdf\"\n",
    "hashed_url = hashlib.md5(url.encode()).hexdigest()\n",
    "raw_vol_path = \"/Volumes/shm/pid/raw_pdfs/\"\n",
    "image_vol_path = \"/Volumes/shm/pid/pdf_images/\"\n",
    "\n",
    "raw_pdf_file_path = raw_vol_path + hashed_url + '.pdf'\n",
    "\n",
    "response = requests.get(url)\n",
    "with open(raw_pdf_file_path, 'wb') as file:\n",
    "    file.write(response.content)"
   ]
  },
  {
   "cell_type": "markdown",
   "metadata": {
    "application/vnd.databricks.v1+cell": {
     "cellMetadata": {},
     "inputWidgets": {},
     "nuid": "c790417b-5ca2-41cb-93ec-be695ea6c694",
     "showTitle": false,
     "tableResultSettingsMap": {},
     "title": ""
    }
   },
   "source": [
    "We currently use PyMuPDF for splitting the pages. The license isn't great, but there are many other options. This is the simplest for now."
   ]
  },
  {
   "cell_type": "code",
   "execution_count": 0,
   "metadata": {
    "application/vnd.databricks.v1+cell": {
     "cellMetadata": {
      "byteLimit": 2048000,
      "rowLimit": 10000
     },
     "inputWidgets": {},
     "nuid": "a736aa6b-65fb-432b-8303-7e9bc8006561",
     "showTitle": false,
     "tableResultSettingsMap": {},
     "title": ""
    }
   },
   "outputs": [],
   "source": [
    "import fitz  # PyMuPDF\n",
    "from pathlib import Path\n",
    "\n",
    "doc_dir = Path(image_vol_path) / hashed_url\n",
    "doc_dir.mkdir(exist_ok=True)\n",
    "\n",
    "doc = fitz.open(raw_pdf_file_path)\n",
    "for page_num in range(len(doc)):\n",
    "    page = doc.load_page(page_num)\n",
    "    pix = page.get_pixmap(dpi=200)\n",
    "    pix.save(doc_dir / f\"page_{page_num+1}.jpeg\")"
   ]
  },
  {
   "cell_type": "code",
   "execution_count": 0,
   "metadata": {
    "application/vnd.databricks.v1+cell": {
     "cellMetadata": {
      "byteLimit": 2048000,
      "rowLimit": 10000
     },
     "inputWidgets": {},
     "nuid": "a68f8be4-98ce-4a3d-92cb-840e9a43b5de",
     "showTitle": false,
     "tableResultSettingsMap": {},
     "title": ""
    }
   },
   "outputs": [],
   "source": [
    "from pathlib import Path\n",
    "from PIL import Image\n",
    "import io\n",
    "\n",
    "def convert_jpeg_to_webp(directory, max_size_kb=500, min_quality=60, min_width=300):\n",
    "    \"\"\"\n",
    "    Convert JPEG images in a directory to WEBP format, ensuring the file size is under a specified limit.\n",
    "\n",
    "    Parameters:\n",
    "    directory (str or Path): The directory containing JPEG images to convert.\n",
    "    max_size_kb (int, optional): The maximum file size for the WEBP images in kilobytes. Default is 500 KB.\n",
    "    min_quality (int, optional): The minimum quality for the WEBP images. Default is 60.\n",
    "    min_width (int, optional): The minimum width for the WEBP images. Default is 300 pixels.\n",
    "    \"\"\"\n",
    "    max_size = max_size_kb * 1024  # 500 KB in bytes\n",
    "    min_width = 300  # Don't shrink images below this width\n",
    "\n",
    "    for jpg_path in Path(directory).glob('*.jp*g'):\n",
    "        img = Image.open(jpg_path)\n",
    "        img = img.convert('RGB')\n",
    "        quality = 85\n",
    "        width, height = img.size\n",
    "\n",
    "        while True:\n",
    "            # Save to buffer to check file size\n",
    "            buffer = io.BytesIO()\n",
    "            img.save(buffer, 'webp', quality=quality)\n",
    "            size = buffer.tell()\n",
    "\n",
    "            if size <= max_size or (quality <= min_quality and width <= min_width):\n",
    "                # Save final image\n",
    "                img.save(jpg_path.with_suffix('.webp'), 'webp', quality=quality)\n",
    "                print(f\"Saved {jpg_path.with_suffix('.webp')} at {size // 1024} KB, quality={quality}, width={width}\")\n",
    "                break\n",
    "\n",
    "            if quality > min_quality:\n",
    "                quality -= 5\n",
    "            else:\n",
    "                # Reduce width by 10% and maintain aspect ratio\n",
    "                width = int(width * 0.9)\n",
    "                if width < min_width:\n",
    "                    width = min_width\n",
    "                height = int(height * (width / img.size[0]))\n",
    "                img = img.resize((width, height), Image.LANCZOS)"
   ]
  },
  {
   "cell_type": "code",
   "execution_count": 0,
   "metadata": {
    "application/vnd.databricks.v1+cell": {
     "cellMetadata": {},
     "inputWidgets": {},
     "nuid": "62d134ca-554e-49de-9fe8-47bb1c7e8874",
     "showTitle": false,
     "tableResultSettingsMap": {},
     "title": ""
    }
   },
   "outputs": [],
   "source": [
    "convert_jpeg_to_webp(doc_dir)"
   ]
  },
  {
   "cell_type": "code",
   "execution_count": 0,
   "metadata": {
    "application/vnd.databricks.v1+cell": {
     "cellMetadata": {
      "byteLimit": 2048000,
      "rowLimit": 10000
     },
     "inputWidgets": {},
     "nuid": "a7c402ab-f58d-4010-a543-9db331390052",
     "showTitle": false,
     "tableResultSettingsMap": {},
     "title": ""
    }
   },
   "outputs": [],
   "source": [
    "from pathlib import Path\n",
    "from PIL import Image\n",
    "\n",
    "def tile_image_with_overlap(image_path, output_dir, overlap_percent=10):\n",
    "    img = Image.open(image_path)\n",
    "    width, height = img.size\n",
    "\n",
    "    cols, rows = 4, 2  # 8 tiles: 4 columns x 2 rows\n",
    "\n",
    "    # Compute base tile size (without overlap)\n",
    "    base_tile_width = width // cols\n",
    "    base_tile_height = height // rows\n",
    "\n",
    "    # Compute overlap in pixels\n",
    "    overlap_x = int(base_tile_width * overlap_percent / 100)\n",
    "    overlap_y = int(base_tile_height * overlap_percent / 100)\n",
    "\n",
    "    output_dir = Path(output_dir)\n",
    "    output_dir.mkdir(parents=True, exist_ok=True)\n",
    "\n",
    "    tile_num = 1\n",
    "    for row in range(rows):\n",
    "        for col in range(cols):\n",
    "            # Calculate the starting x/y\n",
    "            left = col * (base_tile_width - overlap_x)\n",
    "            upper = row * (base_tile_height - overlap_y)\n",
    "\n",
    "            # For the last column/row, ensure we reach the image edge\n",
    "            if col == cols - 1:\n",
    "                right = width\n",
    "            else:\n",
    "                right = left + base_tile_width\n",
    "\n",
    "            if row == rows - 1:\n",
    "                lower = height\n",
    "            else:\n",
    "                lower = upper + base_tile_height\n",
    "\n",
    "            # Clamp to image boundaries\n",
    "            left = max(0, left)\n",
    "            upper = max(0, upper)\n",
    "            right = min(width, right)\n",
    "            lower = min(height, lower)\n",
    "\n",
    "            tile = img.crop((left, upper, right, lower))\n",
    "            tile_path = output_dir / f\"tile_{tile_num}.png\"\n",
    "            tile.save(tile_path)\n",
    "            print(f\"Saved {tile_path} (left={left}, upper={upper}, right={right}, lower={lower})\")\n",
    "            tile_num += 1\n",
    "\n",
    "    print(f\"Tiling complete with {overlap_percent}% overlap.\")\n"
   ]
  },
  {
   "cell_type": "code",
   "execution_count": 0,
   "metadata": {
    "application/vnd.databricks.v1+cell": {
     "cellMetadata": {
      "byteLimit": 2048000,
      "rowLimit": 10000
     },
     "inputWidgets": {},
     "nuid": "6c268e11-5a1d-40e1-bdc2-9d726d898ee4",
     "showTitle": false,
     "tableResultSettingsMap": {},
     "title": ""
    }
   },
   "outputs": [],
   "source": [
    "path = '/Volumes/shm/pid/pdf_images/5a82c87214d47c8af93fb443908548ee/page_13.jpeg'\n",
    "output_dir = '/Volumes/shm/pid/pdf_images/5a82c87214d47c8af93fb443908548ee_tiled/'\n",
    "tile_image_with_overlap(path,output_dir)"
   ]
  }
 ],
 "metadata": {
  "application/vnd.databricks.v1+notebook": {
   "computePreferences": null,
   "dashboards": [],
   "environmentMetadata": {
    "base_environment": "",
    "environment_version": "2"
   },
   "inputWidgetPreferences": null,
   "language": "python",
   "notebookMetadata": {
    "pythonIndentUnit": 2
   },
   "notebookName": "01_preprocessing",
   "widgets": {}
  },
  "language_info": {
   "name": "python"
  }
 },
 "nbformat": 4,
 "nbformat_minor": 0
}
