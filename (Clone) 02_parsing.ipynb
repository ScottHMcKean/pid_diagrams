{
 "cells": [
  {
   "cell_type": "markdown",
   "metadata": {
    "application/vnd.databricks.v1+cell": {
     "cellMetadata": {
      "byteLimit": 2048000,
      "rowLimit": 10000
     },
     "inputWidgets": {},
     "nuid": "09c39a03-4309-4466-8fdd-2374e34b3fe9",
     "showTitle": false,
     "tableResultSettingsMap": {},
     "title": ""
    }
   },
   "source": [
    "# Parsing\n",
    "This notebook does the bulk of the work. It takes each image and runs a Claude query with structured outputs and few shot prompting to extract information from the documents."
   ]
  },
  {
   "cell_type": "code",
   "execution_count": 0,
   "metadata": {
    "application/vnd.databricks.v1+cell": {
     "cellMetadata": {
      "byteLimit": 2048000,
      "rowLimit": 10000
     },
     "inputWidgets": {},
     "nuid": "a62e8876-c38b-4400-82ac-97b3dc54cee7",
     "showTitle": false,
     "tableResultSettingsMap": {},
     "title": ""
    }
   },
   "outputs": [],
   "source": [
    "%pip install mlflow openai\n",
    "%restart_python"
   ]
  },
  {
   "cell_type": "code",
   "execution_count": 0,
   "metadata": {
    "application/vnd.databricks.v1+cell": {
     "cellMetadata": {
      "byteLimit": 2048000,
      "rowLimit": 10000
     },
     "inputWidgets": {},
     "nuid": "fbc26c81-1542-44ad-8657-7fb815f705fd",
     "showTitle": false,
     "tableResultSettingsMap": {},
     "title": ""
    }
   },
   "outputs": [],
   "source": [
    "from mlflow.models import ModelConfig\n",
    "config = ModelConfig(development_config=\"config.yaml\").to_dict()"
   ]
  },
  {
   "cell_type": "code",
   "execution_count": 0,
   "metadata": {
    "application/vnd.databricks.v1+cell": {
     "cellMetadata": {
      "byteLimit": 2048000,
      "rowLimit": 10000
     },
     "inputWidgets": {},
     "nuid": "645cc070-ada1-4bc4-9e6d-80f3f29f3527",
     "showTitle": false,
     "tableResultSettingsMap": {},
     "title": ""
    }
   },
   "outputs": [],
   "source": [
    "from pathlib import Path\n",
    "import base64"
   ]
  },
  {
   "cell_type": "markdown",
   "metadata": {
    "application/vnd.databricks.v1+cell": {
     "cellMetadata": {
      "byteLimit": 2048000,
      "rowLimit": 10000
     },
     "inputWidgets": {},
     "nuid": "3900abfd-9ae5-4560-a828-41e4e0c55ad4",
     "showTitle": false,
     "tableResultSettingsMap": {},
     "title": ""
    }
   },
   "source": [
    "Use Pathlib to get a generator and loop through images for testing"
   ]
  },
  {
   "cell_type": "code",
   "execution_count": 0,
   "metadata": {
    "application/vnd.databricks.v1+cell": {
     "cellMetadata": {
      "byteLimit": 2048000,
      "rowLimit": 10000
     },
     "inputWidgets": {},
     "nuid": "3e39c639-6d4e-4a57-b89e-ca1307675712",
     "showTitle": false,
     "tableResultSettingsMap": {},
     "title": ""
    }
   },
   "outputs": [],
   "source": [
    "# from pathlib import Path\n",
    "# image_paths = Path(config['image_vol_path']).rglob('*.png')"
   ]
  },
  {
   "cell_type": "code",
   "execution_count": 0,
   "metadata": {
    "application/vnd.databricks.v1+cell": {
     "cellMetadata": {
      "byteLimit": 2048000,
      "rowLimit": 10000
     },
     "inputWidgets": {},
     "nuid": "e1748571-9ff4-4369-a875-9dde09c2d27c",
     "showTitle": false,
     "tableResultSettingsMap": {},
     "title": ""
    }
   },
   "outputs": [],
   "source": []
  },
  {
   "cell_type": "code",
   "execution_count": 0,
   "metadata": {
    "application/vnd.databricks.v1+cell": {
     "cellMetadata": {
      "byteLimit": 2048000,
      "rowLimit": 10000
     },
     "inputWidgets": {},
     "nuid": "80903b35-9533-46d2-abcc-4c205ae7994e",
     "showTitle": false,
     "tableResultSettingsMap": {},
     "title": ""
    }
   },
   "outputs": [],
   "source": [
    "\n",
    "\n",
    "#list(image_paths)\n",
    "ex1_path = Path('/Volumes/shm/pid/pdf_images/5a82c87214d47c8af93fb443908548ee/page_10.webp')\n",
    "ex1_data = base64.b64encode(ex1_path.read_bytes()).decode(\"utf-8\")\n",
    "ex2_path = Path('/Volumes/shm/pid/pdf_images/5a82c87214d47c8af93fb443908548ee/page_15.webp')\n",
    "ex2_data = base64.b64encode(ex2_path.read_bytes()).decode(\"utf-8\")\n",
    "#inf_path = Path('/Volumes/shm/pid/pdf_images/5a82c87214d47c8af93fb443908548ee/page_29.png')\n",
    "#inf_path = Path('/Volumes/shm/pid/pdf_images/5a82c87214d47c8af93fb443908548ee/page_13.webp')\n",
    "inf_path = Path('/Volumes/shm/pid/pdf_images/5a82c87214d47c8af93fb443908548ee_tiled/tile_2.png')\n",
    "#inf_path = Path('/Volumes/shm/pid/pdf_images/5a82c87214d47c8af93fb443908548ee_tiled/tile_8.png')"
   ]
  },
  {
   "cell_type": "code",
   "execution_count": 0,
   "metadata": {
    "application/vnd.databricks.v1+cell": {
     "cellMetadata": {
      "byteLimit": 2048000,
      "rowLimit": 10000
     },
     "inputWidgets": {},
     "nuid": "73a0c2bb-4c27-46d3-8c56-0e9b601f8662",
     "showTitle": false,
     "tableResultSettingsMap": {},
     "title": ""
    }
   },
   "outputs": [],
   "source": [
    "# import yaml\n",
    "# import json\n",
    "\n",
    "# def _load_yaml_as_json(path: Path) -> str:\n",
    "#     \"\"\"\n",
    "#     Read a YAML file from `path`, parse it into a Python object,\n",
    "#     then dump that object as a JSON string.\n",
    "#     \"\"\"\n",
    "#     text = path.read_text()               # raises if file doesn’t exist\n",
    "#     data = yaml.safe_load(text)           # e.g. dict, list, etc.\n",
    "#     return json.dumps(data, ensure_ascii=False)"
   ]
  },
  {
   "cell_type": "code",
   "execution_count": 0,
   "metadata": {
    "application/vnd.databricks.v1+cell": {
     "cellMetadata": {
      "byteLimit": 2048000,
      "rowLimit": 10000
     },
     "inputWidgets": {},
     "nuid": "55058dee-4bc9-4a0a-a023-b824b24fffc5",
     "showTitle": false,
     "tableResultSettingsMap": {},
     "title": ""
    }
   },
   "outputs": [],
   "source": [
    "# 1. If you haven’t already installed PyYAML, run:\n",
    "#    pip install pyyaml\n",
    "\n",
    "import yaml\n",
    "from pathlib import Path\n",
    "\n",
    "def load_yaml_for_prompt(file_path: Path) -> str:\n",
    "    \"\"\"\n",
    "    Read a YAML file and return a fenced code‐block string containing the same YAML,\n",
    "    suitable for pasting into an LLM prompt as “example expected output.”\n",
    "\n",
    "    Args:\n",
    "        file_path: path to the .yaml file you want to load.\n",
    "\n",
    "    Returns:\n",
    "        A string that looks like:\n",
    "            ```yaml\n",
    "            <contents of the YAML, re-dumped>\n",
    "            ```\n",
    "    \"\"\"\n",
    "    # 1. Read + parse\n",
    "    with file_path.open(\"r\", encoding=\"utf-8\") as f:\n",
    "        data = yaml.safe_load(f)\n",
    "\n",
    "    # 2. Re-dump to YAML (keep original key order)\n",
    "    yaml_text = yaml.dump(data, sort_keys=False)\n",
    "\n",
    "    # 3. Wrap in a code fence\n",
    "    fenced = f\"```yaml\\n{yaml_text}```\"\n",
    "    return fenced\n"
   ]
  },
  {
   "cell_type": "markdown",
   "metadata": {
    "application/vnd.databricks.v1+cell": {
     "cellMetadata": {
      "byteLimit": 2048000,
      "rowLimit": 10000
     },
     "inputWidgets": {},
     "nuid": "e4b9c36a-c8d1-4d44-bd88-afe0654b0ef1",
     "showTitle": false,
     "tableResultSettingsMap": {},
     "title": ""
    }
   },
   "source": []
  },
  {
   "cell_type": "markdown",
   "metadata": {
    "application/vnd.databricks.v1+cell": {
     "cellMetadata": {
      "byteLimit": 2048000,
      "rowLimit": 10000
     },
     "inputWidgets": {},
     "nuid": "90ab04fc-76d0-4af2-bba3-3444b055c6d7",
     "showTitle": false,
     "tableResultSettingsMap": {},
     "title": ""
    }
   },
   "source": [
    "Example Inference"
   ]
  },
  {
   "cell_type": "code",
   "execution_count": 0,
   "metadata": {
    "application/vnd.databricks.v1+cell": {
     "cellMetadata": {
      "byteLimit": 2048000,
      "rowLimit": 10000
     },
     "inputWidgets": {},
     "nuid": "0cc2a16d-30a9-461f-b945-da6e973a45ee",
     "showTitle": false,
     "tableResultSettingsMap": {},
     "title": ""
    }
   },
   "outputs": [],
   "source": [
    "from openai import OpenAI\n",
    "import base64\n",
    "\n",
    "DATABRICKS_TOKEN = dbutils.notebook.entry_point.getDbutils().notebook().getContext().apiToken().get()\n",
    "\n",
    "client = OpenAI(\n",
    "  api_key=DATABRICKS_TOKEN,\n",
    "  base_url=\"https://adb-984752964297111.11.azuredatabricks.net/serving-endpoints\"\n",
    ")\n",
    "\n",
    "def zero_shot_parse(image_path: Path):\n",
    "  image_data = base64.b64encode(image_path.read_bytes()).decode(\"utf-8\")\n",
    "\n",
    "  chat_completion = client.chat.completions.create(\n",
    "    messages=[\n",
    "      {\n",
    "        \"role\": \"system\",\n",
    "        \"content\": config['system_prompt']\n",
    "      },\n",
    "      {\n",
    "        \"role\": \"user\",\n",
    "        \"content\": [\n",
    "          {\"type\": \"image_url\", \"image_url\": \n",
    "            {\"url\": f\"data:image/jpeg;base64,{image_data}\"}\n",
    "          }\n",
    "        ]\n",
    "      }\n",
    "    ],\n",
    "    model=config['fm_endpoint'],\n",
    "    temperature=config['temperature'],\n",
    "    top_p=config['top_p']\n",
    "  )\n",
    "\n",
    "  parsed_text = chat_completion.choices[0].message.content\n",
    "  return parsed_text"
   ]
  },
  {
   "cell_type": "code",
   "execution_count": 0,
   "metadata": {
    "application/vnd.databricks.v1+cell": {
     "cellMetadata": {
      "byteLimit": 2048000,
      "rowLimit": 10000
     },
     "inputWidgets": {},
     "nuid": "813b93c0-a9d7-40f6-87b8-4f0b177fe41b",
     "showTitle": false,
     "tableResultSettingsMap": {},
     "title": ""
    }
   },
   "outputs": [],
   "source": [
    "yaml_example_1_path = Path('example_output_1.yaml')\n",
    "yaml_example_2_path = Path('example_output_2.yaml')\n",
    "\n",
    "\n",
    "ex1_output = load_yaml_for_prompt(yaml_example_1_path)\n",
    "ex2_output = load_yaml_for_prompt(yaml_example_2_path)"
   ]
  },
  {
   "cell_type": "code",
   "execution_count": 0,
   "metadata": {
    "application/vnd.databricks.v1+cell": {
     "cellMetadata": {
      "byteLimit": 2048000,
      "rowLimit": 10000
     },
     "inputWidgets": {},
     "nuid": "c34da72a-f11b-44b9-9147-f2a7d5ee7112",
     "showTitle": false,
     "tableResultSettingsMap": {},
     "title": ""
    }
   },
   "outputs": [],
   "source": [
    "inf_zero_shot = zero_shot_parse(inf_path)"
   ]
  },
  {
   "cell_type": "code",
   "execution_count": 0,
   "metadata": {
    "application/vnd.databricks.v1+cell": {
     "cellMetadata": {
      "byteLimit": 2048000,
      "rowLimit": 10000
     },
     "inputWidgets": {},
     "nuid": "4500afa0-65a1-4943-a68b-d9641bc9ca67",
     "showTitle": false,
     "tableResultSettingsMap": {},
     "title": ""
    }
   },
   "outputs": [],
   "source": [
    "print(inf_zero_shot)"
   ]
  },
  {
   "cell_type": "code",
   "execution_count": 0,
   "metadata": {
    "application/vnd.databricks.v1+cell": {
     "cellMetadata": {
      "byteLimit": 2048000,
      "rowLimit": 10000
     },
     "inputWidgets": {},
     "nuid": "942a47b5-f4aa-495c-af19-1d26b8fd5828",
     "showTitle": false,
     "tableResultSettingsMap": {},
     "title": ""
    }
   },
   "outputs": [],
   "source": [
    "# def few_shot_parse(image_path: Path):\n",
    "#   image_data = base64.b64encode(image_path.read_bytes()).decode(\"utf-8\")\n",
    "\n",
    "#   chat_completion = client.chat.completions.create(\n",
    "#     messages=[\n",
    "#       {\n",
    "#         \"role\": \"system\",\n",
    "#         \"content\": config['system_prompt']\n",
    "#       },\n",
    "#       {\n",
    "#         \"role\": \"user\",\n",
    "#         \"content\": [\n",
    "#           {\"type\": \"image_url\", \"image_url\": {\"url\": f\"data:image/jpeg;base64,{ex1_data}\"}},\n",
    "#           {\"type\": \"text\", \"text\": ex1_output},\n",
    "#           {\"type\": \"image_url\", \"image_url\": {\"url\": f\"data:image/jpeg;base64,{ex2_data}\"}},\n",
    "#           {\"type\": \"text\", \"text\": ex2_output},\n",
    "#           {\"type\": \"image_url\", \"image_url\": \n",
    "#             {\"url\": f\"data:image/jpeg;base64,{image_data}\"}\n",
    "#           }\n",
    "#         ]\n",
    "#       }\n",
    "#     ],\n",
    "#     model=config['fm_endpoint'],\n",
    "#     temperature=config['temperature'],\n",
    "#     top_p=config['top_p']\n",
    "#   )\n",
    "\n",
    "#   parsed_text = chat_completion.choices[0].message.content\n",
    "#   return parsed_text"
   ]
  },
  {
   "cell_type": "code",
   "execution_count": 0,
   "metadata": {
    "application/vnd.databricks.v1+cell": {
     "cellMetadata": {
      "byteLimit": 2048000,
      "rowLimit": 10000
     },
     "inputWidgets": {},
     "nuid": "81788e19-481a-46a0-9b1c-736f37e72eec",
     "showTitle": false,
     "tableResultSettingsMap": {},
     "title": ""
    }
   },
   "outputs": [],
   "source": [
    "import base64\n",
    "from pathlib import Path\n",
    "\n",
    "def few_shot_parse(image_path: Path):\n",
    "    image_data = base64.b64encode(image_path.read_bytes()).decode(\"utf-8\")\n",
    "\n",
    "\n",
    "    #  reate an explicit “instructions” text block that tells the model: \n",
    "    #    “Your answer should be ONLY the YAML mapping, matching the examples exactly—no extra text.”\n",
    "    instruction_text = (\n",
    "        \"Now, based on the image below, please output ONLY the YAML mapping \"\n",
    "        \"in the same structure as the two examples above. \"\n",
    "        \"Do not include any additional commentary, explanation, or markup—just the YAML.\"\n",
    "    )\n",
    "\n",
    "    chat_completion = client.chat.completions.create(\n",
    "        messages=[\n",
    "            {\n",
    "                \"role\": \"system\",\n",
    "                \"content\": config[\"system_prompt\"]\n",
    "            },\n",
    "            {\n",
    "                \"role\": \"user\",\n",
    "                \"content\": [\n",
    "                    # Example‐1 image\n",
    "                    {\n",
    "                        \"type\": \"image_url\",\n",
    "                        \"image_url\": {\"url\": f\"data:image/png;base64,{ex1_data}\"}\n",
    "                    },\n",
    "                    # Example‐1 YAML (fenced)\n",
    "                    {\n",
    "                        \"type\": \"text\",\n",
    "                        \"text\": ex1_output\n",
    "                    },\n",
    "\n",
    "                    # Example‐2 image\n",
    "                    {\n",
    "                        \"type\": \"image_url\",\n",
    "                        \"image_url\": {\"url\": f\"data:image/png;base64,{ex2_data}\"}\n",
    "                    },\n",
    "                    # Example‐2 YAML (fenced)\n",
    "                    {\n",
    "                        \"type\": \"text\",\n",
    "                        \"text\": ex2_output\n",
    "                    },\n",
    "\n",
    "                    # → New: instruction to output only YAML\n",
    "                    {\n",
    "                        \"type\": \"text\",\n",
    "                        \"text\": instruction_text\n",
    "                    },\n",
    "\n",
    "                    # Finally: the “unknown” image we want the model to parse\n",
    "                    {\n",
    "                        \"type\": \"image_url\",\n",
    "                        \"image_url\": {\"url\": f\"data:image/png;base64,{image_data}\"}\n",
    "                    }\n",
    "                ]\n",
    "            }\n",
    "        ],\n",
    "        model=config[\"fm_endpoint\"],\n",
    "        temperature=config[\"temperature\"],\n",
    "        top_p=config[\"top_p\"]\n",
    "    )\n",
    "\n",
    "    parsed_text = chat_completion.choices[0].message.content\n",
    "    return parsed_text\n"
   ]
  },
  {
   "cell_type": "code",
   "execution_count": 0,
   "metadata": {
    "application/vnd.databricks.v1+cell": {
     "cellMetadata": {
      "byteLimit": 2048000,
      "rowLimit": 10000
     },
     "inputWidgets": {},
     "nuid": "7d6f23dc-7c36-4e67-be09-4d5afd25e450",
     "showTitle": false,
     "tableResultSettingsMap": {},
     "title": ""
    }
   },
   "outputs": [],
   "source": [
    "import base64\n",
    "from pathlib import Path\n",
    "\n",
    "def few_shot_parse(image_path: Path):\n",
    "    image_data = base64.b64encode(image_path.read_bytes()).decode(\"utf-8\")\n",
    "\n",
    "\n",
    "    #  reate an explicit “instructions” text block that tells the model: \n",
    "    #    “Your answer should be ONLY the YAML mapping, matching the examples exactly—no extra text.”\n",
    "    instruction_text = (\n",
    "        \"Now, based on the image below, please output ONLY the YAML mapping \"\n",
    "        \"in the same structure as the two examples above. \"\n",
    "        \"Do not include any additional commentary, explanation, or markup—just the YAML. Only include 10 equipment tags and 10 linetags\"\n",
    "    )\n",
    "\n",
    "    chat_completion = client.chat.completions.create(\n",
    "        messages=[\n",
    "            {\n",
    "                \"role\": \"system\",\n",
    "                \"content\": config[\"system_prompt\"]\n",
    "            },\n",
    "            {\n",
    "                \"role\": \"user\",\n",
    "                \"content\": [\n",
    "                    # # Example‐2 image\n",
    "                    # {\n",
    "                    #     \"type\": \"image_url\",\n",
    "                    #     \"image_url\": {\"url\": f\"data:image/jpeg;base64,{ex2_data}\"}\n",
    "                    # },\n",
    "                    # # Example‐2 YAML (fenced)\n",
    "                    # {\n",
    "                    #     \"type\": \"text\",\n",
    "                    #     \"text\": ex2_output\n",
    "                    # },\n",
    "\n",
    "                    # → New: instruction to output only YAML\n",
    "                    {\n",
    "                        \"type\": \"text\",\n",
    "                        \"text\": instruction_text\n",
    "                    },\n",
    "\n",
    "                    # Finally: the “unknown” image we want the model to parse\n",
    "                    {\n",
    "                        \"type\": \"image_url\",\n",
    "                        \"image_url\": {\"url\": f\"data:image/png;base64,{image_data}\"}\n",
    "                    }\n",
    "                ]\n",
    "            }\n",
    "        ],\n",
    "        model=config[\"fm_endpoint\"],\n",
    "        temperature=config[\"temperature\"],\n",
    "        top_p=config[\"top_p\"]\n",
    "    )\n",
    "\n",
    "    parsed_text = chat_completion.choices[0].message.content\n",
    "    return parsed_text\n"
   ]
  },
  {
   "cell_type": "code",
   "execution_count": 0,
   "metadata": {
    "application/vnd.databricks.v1+cell": {
     "cellMetadata": {
      "byteLimit": 2048000,
      "rowLimit": 10000
     },
     "inputWidgets": {},
     "nuid": "c08e8816-66dc-4bb8-8554-d985e1b15a77",
     "showTitle": false,
     "tableResultSettingsMap": {},
     "title": ""
    }
   },
   "outputs": [],
   "source": [
    "inf_few_shot = few_shot_parse(inf_path)"
   ]
  },
  {
   "cell_type": "code",
   "execution_count": 0,
   "metadata": {
    "application/vnd.databricks.v1+cell": {
     "cellMetadata": {
      "byteLimit": 2048000,
      "rowLimit": 10000
     },
     "inputWidgets": {},
     "nuid": "7ca9226e-5624-4278-87bd-a1478cb8ab98",
     "showTitle": false,
     "tableResultSettingsMap": {},
     "title": ""
    }
   },
   "outputs": [],
   "source": [
    "def few_shot_parse(image_path):\n",
    "    # Split the input data into smaller chunks\n",
    "    chunk_size = 4194304  # 4 MB\n",
    "    with open(image_path, 'rb') as f:\n",
    "        data = f.read()\n",
    "    \n",
    "    chunks = [data[i:i + chunk_size] for i in range(0, len(data), chunk_size)]\n",
    "    \n",
    "    results = []\n",
    "    for chunk in chunks:\n",
    "        instruction_text = (\n",
    "            \"Now, based on the image below, please output ONLY the YAML mapping \"\n",
    "            \"in the same structure as the two examples above. \"\n",
    "            \"Do not include any additional commentary, explanation, or markup—just the YAML.\"\n",
    "        )\n",
    "        \n",
    "        chat_completion = client.chat.completions.create(\n",
    "            model=config[\"fm_endpoint\"],\n",
    "            messages=[\n",
    "                {\n",
    "                    \"role\": \"system\",\n",
    "                    \"content\": config[\"system_prompt\"]\n",
    "                },\n",
    "                {\n",
    "                    \"role\": \"user\",\n",
    "                    \"content\": instruction_text\n",
    "                },\n",
    "                {\n",
    "                    \"role\": \"user\",\n",
    "                    \"content\": chunk.decode('utf-8', errors='ignore')\n",
    "                }\n",
    "            ]\n",
    "        )\n",
    "        \n",
    "        results.append(chat_completion.choices[0].message['content'])\n",
    "    \n",
    "    return results\n",
    "\n",
    "inf_few_shot = few_shot_parse(inf_path)"
   ]
  },
  {
   "cell_type": "code",
   "execution_count": 0,
   "metadata": {
    "application/vnd.databricks.v1+cell": {
     "cellMetadata": {
      "byteLimit": 2048000,
      "rowLimit": 10000
     },
     "inputWidgets": {},
     "nuid": "89439743-d287-4536-b1e7-2471657c8924",
     "showTitle": false,
     "tableResultSettingsMap": {},
     "title": ""
    }
   },
   "outputs": [],
   "source": [
    "inf_few_shot"
   ]
  },
  {
   "cell_type": "code",
   "execution_count": 0,
   "metadata": {
    "application/vnd.databricks.v1+cell": {
     "cellMetadata": {
      "byteLimit": 2048000,
      "rowLimit": 10000
     },
     "inputWidgets": {},
     "nuid": "32d2065f-f582-4975-a86a-38dd5d5dfc8e",
     "showTitle": false,
     "tableResultSettingsMap": {},
     "title": ""
    }
   },
   "outputs": [],
   "source": [
    "import json\n",
    "\n",
    "def json_string_to_yaml_file(raw_text: str, output_path: str) -> None:\n",
    "    \"\"\"\n",
    "    Convert a JSON‐formatted string (with \\n and \\\" escapes) into a YAML file.\n",
    "\n",
    "    Args:\n",
    "        raw_text: The raw string you received from the model, e.g.:\n",
    "            '{\\n  \"title_block\": { ... }\\n  ...\\n}'\n",
    "        output_path: Path where you want to write the YAML file, e.g. \"parsed_output.yaml\".\n",
    "    \"\"\"\n",
    "    # Parse the JSON string into a Python dict\n",
    "    data = json.loads(raw_text)\n",
    "\n",
    "    # Dump that dict as YAML (preserving key order)\n",
    "    yaml_text = yaml.dump(data, sort_keys=False)\n",
    "\n",
    "    # Write it out\n",
    "    Path(output_path).write_text(yaml_text, encoding=\"utf-8\")\n"
   ]
  },
  {
   "cell_type": "code",
   "execution_count": 0,
   "metadata": {
    "application/vnd.databricks.v1+cell": {
     "cellMetadata": {
      "byteLimit": 2048000,
      "rowLimit": 10000
     },
     "inputWidgets": {},
     "nuid": "dbed4b74-250d-436b-a96e-b1b35f538186",
     "showTitle": false,
     "tableResultSettingsMap": {},
     "title": ""
    }
   },
   "outputs": [],
   "source": [
    "#json_string_to_yaml_file(inf_few_shot, \"parsed_output.yaml\")"
   ]
  },
  {
   "cell_type": "code",
   "execution_count": 0,
   "metadata": {
    "application/vnd.databricks.v1+cell": {
     "cellMetadata": {
      "byteLimit": 2048000,
      "rowLimit": 10000
     },
     "inputWidgets": {},
     "nuid": "7aabdd5b-f7b5-40c2-b3b3-91f66b7ef719",
     "showTitle": false,
     "tableResultSettingsMap": {},
     "title": ""
    }
   },
   "outputs": [],
   "source": [
    "inf_few_shot"
   ]
  },
  {
   "cell_type": "markdown",
   "metadata": {
    "application/vnd.databricks.v1+cell": {
     "cellMetadata": {
      "byteLimit": 2048000,
      "rowLimit": 10000
     },
     "inputWidgets": {},
     "nuid": "a8235546-d8b4-4787-b771-832fd9d02195",
     "showTitle": false,
     "tableResultSettingsMap": {},
     "title": ""
    }
   },
   "source": [
    "JSON Parsing"
   ]
  },
  {
   "cell_type": "code",
   "execution_count": 0,
   "metadata": {
    "application/vnd.databricks.v1+cell": {
     "cellMetadata": {
      "byteLimit": 2048000,
      "rowLimit": 10000
     },
     "inputWidgets": {},
     "nuid": "62112f78-1ec8-4199-b153-cf8e0627bbb1",
     "showTitle": false,
     "tableResultSettingsMap": {},
     "title": ""
    }
   },
   "outputs": [],
   "source": [
    "import re\n",
    "json_str = inf_few_shot\n",
    "\n",
    "fixed_json_str = re.sub(\n",
    "    r'\"(\\d+)\"-([A-Z\\-0-9]+)\"',\n",
    "    r'\"\\1-\\2\"',\n",
    "    json_str\n",
    ")"
   ]
  },
  {
   "cell_type": "code",
   "execution_count": 0,
   "metadata": {
    "application/vnd.databricks.v1+cell": {
     "cellMetadata": {
      "byteLimit": 2048000,
      "rowLimit": 10000
     },
     "inputWidgets": {},
     "nuid": "0bc686fb-a8d3-49cb-8f2c-3275a7b3fb63",
     "showTitle": false,
     "tableResultSettingsMap": {},
     "title": ""
    }
   },
   "outputs": [],
   "source": [
    "import json\n",
    "parsed_dict = json.loads(fixed_json_str)"
   ]
  },
  {
   "cell_type": "code",
   "execution_count": 0,
   "metadata": {
    "application/vnd.databricks.v1+cell": {
     "cellMetadata": {
      "byteLimit": 2048000,
      "rowLimit": 10000
     },
     "inputWidgets": {},
     "nuid": "ca1f0e01-2684-4964-a6e9-33a733edb66f",
     "showTitle": false,
     "tableResultSettingsMap": {},
     "title": ""
    }
   },
   "outputs": [],
   "source": [
    "parsed_dict"
   ]
  },
  {
   "cell_type": "code",
   "execution_count": 0,
   "metadata": {
    "application/vnd.databricks.v1+cell": {
     "cellMetadata": {
      "byteLimit": 2048000,
      "rowLimit": 10000
     },
     "inputWidgets": {},
     "nuid": "b5a34c4a-c605-4cd1-8094-26e66085bf31",
     "showTitle": false,
     "tableResultSettingsMap": {},
     "title": ""
    }
   },
   "outputs": [],
   "source": [
    "import pandas as pd\n",
    "\n",
    "data = parsed_dict\n",
    "\n",
    "# Step 1: Flatten the nested 'title_block' into top-level keys\n",
    "flat_data = {}\n",
    "for key, value in data['title_block'].items():\n",
    "    flat_data[f\"title_block_{key}\"] = value\n",
    "\n",
    "# Step 2: Convert each list field into a comma-separated string\n",
    "for list_key in ['comments', 'revision_history', 'equipment_tags', 'line_tags', 'uncaptured']:\n",
    "    flat_data[list_key] = \", \".join(data[list_key])\n",
    "\n",
    "# Step 3: Add any remaining top-level non-list fields\n",
    "flat_data['document_type'] = data['document_type']\n",
    "\n",
    "# Step 4: Create a DataFrame with a single row\n",
    "df = pd.DataFrame([flat_data])\n",
    "\n",
    "# Display the DataFrame\n",
    "print(df)"
   ]
  },
  {
   "cell_type": "code",
   "execution_count": 0,
   "metadata": {
    "application/vnd.databricks.v1+cell": {
     "cellMetadata": {
      "byteLimit": 2048000,
      "rowLimit": 10000
     },
     "inputWidgets": {},
     "nuid": "6a0c557b-59ac-4a0a-b0c2-ce80f7233abf",
     "showTitle": false,
     "tableResultSettingsMap": {},
     "title": ""
    }
   },
   "outputs": [],
   "source": [
    "data = parsed_dict\n",
    "\n",
    "df = pd.json_normalize(data)\n",
    "\n",
    "for col in ['comments', 'revision_history', 'equipment_tags', 'line_tags', 'uncaptured']:\n",
    "    df[col] = df[col].apply(lambda lst: \", \".join(lst) if isinstance(lst, list) else \"\")\n",
    "\n",
    "\n",
    "title_cols = [c for c in df.columns if c.startswith(\"title_block.\")]\n",
    "other_cols = [c for c in df.columns if not c.startswith(\"title_block.\")]\n",
    "results = df[title_cols + other_cols]\n",
    "\n",
    "print(results)"
   ]
  },
  {
   "cell_type": "code",
   "execution_count": 0,
   "metadata": {
    "application/vnd.databricks.v1+cell": {
     "cellMetadata": {
      "byteLimit": 2048000,
      "rowLimit": 10000
     },
     "inputWidgets": {},
     "nuid": "00cb9129-fe8b-41f0-a5c1-b7a345b2b4e9",
     "showTitle": false,
     "tableResultSettingsMap": {},
     "title": ""
    }
   },
   "outputs": [],
   "source": [
    "df"
   ]
  },
  {
   "cell_type": "code",
   "execution_count": 0,
   "metadata": {
    "application/vnd.databricks.v1+cell": {
     "cellMetadata": {
      "byteLimit": 2048000,
      "rowLimit": 10000
     },
     "inputWidgets": {},
     "nuid": "74635c80-5a96-47a1-a2b4-237bf7534e99",
     "showTitle": false,
     "tableResultSettingsMap": {},
     "title": ""
    }
   },
   "outputs": [],
   "source": [
    "import yaml\n",
    "\n",
    "with open('output.yaml', 'w') as yaml_file:\n",
    "    yaml.dump(parsed_dict, yaml_file)"
   ]
  },
  {
   "cell_type": "code",
   "execution_count": 0,
   "metadata": {
    "application/vnd.databricks.v1+cell": {
     "cellMetadata": {
      "byteLimit": 2048000,
      "rowLimit": 10000
     },
     "inputWidgets": {},
     "nuid": "fa54b6f9-25c3-450c-a02e-7c6d8f0b3253",
     "showTitle": false,
     "tableResultSettingsMap": {},
     "title": ""
    }
   },
   "outputs": [],
   "source": [
    "with open('output.yaml', 'r') as f:\n",
    "    reloaded = yaml.safe_load(f)\n",
    "\n",
    "json.dumps(reloaded)"
   ]
  },
  {
   "cell_type": "markdown",
   "metadata": {
    "application/vnd.databricks.v1+cell": {
     "cellMetadata": {
      "byteLimit": 2048000,
      "rowLimit": 10000
     },
     "inputWidgets": {},
     "nuid": "866683a6-114c-401d-ae6c-1879579784fd",
     "showTitle": false,
     "tableResultSettingsMap": {},
     "title": ""
    }
   },
   "source": []
  },
  {
   "cell_type": "markdown",
   "metadata": {
    "application/vnd.databricks.v1+cell": {
     "cellMetadata": {
      "byteLimit": 2048000,
      "rowLimit": 10000
     },
     "inputWidgets": {},
     "nuid": "a231910c-b93d-4279-b298-85b13eb2b72f",
     "showTitle": false,
     "tableResultSettingsMap": {},
     "title": ""
    }
   },
   "source": [
    "Compare results with expected results"
   ]
  },
  {
   "cell_type": "code",
   "execution_count": 0,
   "metadata": {
    "application/vnd.databricks.v1+cell": {
     "cellMetadata": {
      "byteLimit": 2048000,
      "rowLimit": 10000
     },
     "inputWidgets": {},
     "nuid": "408ffc0c-5252-4d82-828b-0e9d3a68a5c6",
     "showTitle": false,
     "tableResultSettingsMap": {},
     "title": ""
    }
   },
   "outputs": [],
   "source": [
    "import yaml\n",
    "import pandas as pd\n",
    "from pathlib import Path\n",
    "\n",
    "def expected_yaml_to_dataframe(yaml_path: str) -> pd.DataFrame:\n",
    "    \"\"\"\n",
    "    Load a YAML file and return a pandas DataFrame with one row,\n",
    "    \"\"\"\n",
    "\n",
    "    # 1. Read & parse the YAML file\n",
    "    path = Path(yaml_path)\n",
    "    with path.open(\"r\", encoding=\"utf-8\") as f:\n",
    "        data = yaml.safe_load(f)\n",
    "\n",
    "    # 2. Use pandas.json_normalize to flatten nested structures\n",
    "    df = pd.json_normalize(data)\n",
    "\n",
    "    # 3. Ensure all expected columns exist; fill missing ones\n",
    "    expected_cols = [\n",
    "        \"title_block.drawing_number\",\n",
    "        \"title_block.title\",\n",
    "        \"title_block.revision_status\",\n",
    "        \"title_block.primary_location\",\n",
    "        \"title_block.other_locations\",\n",
    "        \"title_block.plant\",\n",
    "        \"title_block.area\",\n",
    "        \"title_block.type\",\n",
    "        \"title_block.discipline\",\n",
    "        \"title_block.sequence\",\n",
    "        \"comments\",\n",
    "        \"revision_history\",\n",
    "        \"equipment_tags\",\n",
    "        \"line_tags\",\n",
    "        \"document_type\",\n",
    "        \"uncaptured\",\n",
    "    ]\n",
    "\n",
    "    list_cols = {\"comments\", \"revision_history\", \"equipment_tags\", \"line_tags\", \"uncaptured\"}\n",
    "\n",
    "    for col in expected_cols:\n",
    "        if col not in df.columns:\n",
    "            # For list‐type fields, default to an empty list; otherwise None\n",
    "            if col in list_cols:\n",
    "                df[col] = [[] for _ in range(len(df))]\n",
    "            else:\n",
    "                df[col] = ''\n",
    "\n",
    "    # 4. Convert each list column into a comma‐separated string\n",
    "    for col in list_cols:\n",
    "        df[col] = df[col].apply(lambda val: \", \".join(val) if isinstance(val, list) else \"\")\n",
    "\n",
    "    # 5. Reorder columns\n",
    "    df = df[expected_cols]\n",
    "    return df\n"
   ]
  },
  {
   "cell_type": "code",
   "execution_count": 0,
   "metadata": {
    "application/vnd.databricks.v1+cell": {
     "cellMetadata": {
      "byteLimit": 2048000,
      "rowLimit": 10000
     },
     "inputWidgets": {},
     "nuid": "fdf66b39-4779-4a1c-8dc8-ec3ea1aba99a",
     "showTitle": false,
     "tableResultSettingsMap": {},
     "title": ""
    }
   },
   "outputs": [],
   "source": [
    "expected_results = expected_yaml_to_dataframe(\"pg_29_expected_results.yaml\")"
   ]
  },
  {
   "cell_type": "code",
   "execution_count": 0,
   "metadata": {
    "application/vnd.databricks.v1+cell": {
     "cellMetadata": {
      "byteLimit": 2048000,
      "rowLimit": 10000
     },
     "inputWidgets": {},
     "nuid": "a2894aaf-a5fc-4745-9ff8-e101f791b7f2",
     "showTitle": false,
     "tableResultSettingsMap": {},
     "title": ""
    }
   },
   "outputs": [],
   "source": [
    "expected_results"
   ]
  },
  {
   "cell_type": "code",
   "execution_count": 0,
   "metadata": {
    "application/vnd.databricks.v1+cell": {
     "cellMetadata": {
      "byteLimit": 2048000,
      "rowLimit": 10000
     },
     "inputWidgets": {},
     "nuid": "d586cd50-7f6f-48fc-af5c-fcfe4047a51b",
     "showTitle": false,
     "tableResultSettingsMap": {},
     "title": ""
    }
   },
   "outputs": [],
   "source": [
    "df_compare = pd.concat([results, expected_results], ignore_index=True)\n"
   ]
  },
  {
   "cell_type": "code",
   "execution_count": 0,
   "metadata": {
    "application/vnd.databricks.v1+cell": {
     "cellMetadata": {
      "byteLimit": 2048000,
      "rowLimit": 10000
     },
     "inputWidgets": {},
     "nuid": "a1b1b451-ae01-4737-90a0-f86972bab6e7",
     "showTitle": false,
     "tableResultSettingsMap": {},
     "title": ""
    }
   },
   "outputs": [],
   "source": [
    "df_compare"
   ]
  },
  {
   "cell_type": "code",
   "execution_count": 0,
   "metadata": {
    "application/vnd.databricks.v1+cell": {
     "cellMetadata": {
      "byteLimit": 2048000,
      "rowLimit": 10000
     },
     "inputWidgets": {},
     "nuid": "b0c6399e-597b-4055-8453-cce5f16624c7",
     "showTitle": false,
     "tableResultSettingsMap": {},
     "title": ""
    }
   },
   "outputs": [],
   "source": [
    "import pandas as pd\n",
    "\n",
    "# 1. Helper to count items in a comma‐separated string\n",
    "def count_items(cell):\n",
    "    if pd.isna(cell) or cell == \"\":\n",
    "        return 0\n",
    "    # Split on commas, strip whitespace, count non-empty tokens\n",
    "    return len([item for item in str(cell).split(\",\") if item.strip()])\n",
    "\n",
    "# 2. Add the two new count columns\n",
    "df_compare[\"equipment_count\"] = df_compare[\"equipment_tags\"].apply(count_items)\n",
    "df_compare[\"line_count\"] = df_compare[\"line_tags\"].apply(count_items)\n",
    "\n",
    "# 3. Build a comparison dict between row 0 and row 1 (exact equality)\n",
    "comparison = {}\n",
    "for col in df_compare.columns:\n",
    "    v0 = df_compare.at[0, col]\n",
    "    v1 = df_compare.at[1, col]\n",
    "    comparison[col] = (v0 == v1)\n",
    "\n",
    "# 4. Append the comparison row to df_compare\n",
    "df_compare = pd.concat([df_compare, pd.DataFrame([comparison])], ignore_index=True)\n"
   ]
  },
  {
   "cell_type": "code",
   "execution_count": 0,
   "metadata": {
    "application/vnd.databricks.v1+cell": {
     "cellMetadata": {
      "byteLimit": 2048000,
      "rowLimit": 10000
     },
     "inputWidgets": {},
     "nuid": "1e65abe8-7d76-4d63-aa82-b62b33055759",
     "showTitle": false,
     "tableResultSettingsMap": {},
     "title": ""
    }
   },
   "outputs": [],
   "source": [
    "df_compare"
   ]
  },
  {
   "cell_type": "code",
   "execution_count": 0,
   "metadata": {
    "application/vnd.databricks.v1+cell": {
     "cellMetadata": {
      "byteLimit": 2048000,
      "rowLimit": 10000
     },
     "inputWidgets": {},
     "nuid": "0b7242f0-38a6-4955-a405-d1e8160b36f2",
     "showTitle": false,
     "tableResultSettingsMap": {},
     "title": ""
    }
   },
   "outputs": [],
   "source": [
    "df_compare['equipment_tags'][0]"
   ]
  },
  {
   "cell_type": "code",
   "execution_count": 0,
   "metadata": {
    "application/vnd.databricks.v1+cell": {
     "cellMetadata": {
      "byteLimit": 2048000,
      "rowLimit": 10000
     },
     "inputWidgets": {},
     "nuid": "eea926d9-8078-45a1-bd2f-84bf8c808212",
     "showTitle": false,
     "tableResultSettingsMap": {},
     "title": ""
    }
   },
   "outputs": [],
   "source": [
    "import pandas as pd\n",
    "\n",
    "# Assume df_compare already exists with exactly two rows,\n",
    "# and has columns 'equipment_tags' and 'line_tags'.\n",
    "\n",
    "# 1. Helper to count items in a comma‐separated string\n",
    "def count_items(cell):\n",
    "    if pd.isna(cell) or cell == \"\" or not isinstance(cell, str):\n",
    "        return 0\n",
    "    return len([item for item in cell.split(\",\") if item.strip()])\n",
    "\n",
    "# 2. Add the two new count columns\n",
    "df_compare[\"equipment_count\"] = df_compare[\"equipment_tags\"].apply(count_items)\n",
    "df_compare[\"line_count\"] = df_compare[\"line_tags\"].apply(count_items)\n",
    "\n",
    "# 3. Build a comparison dict between row 0 and row 1,\n",
    "#    treating equipment_tags and line_tags as order‐insensitive sets\n",
    "comparison = {}\n",
    "for col in df_compare.columns:\n",
    "    v0 = df_compare.at[0, col]\n",
    "    v1 = df_compare.at[1, col]\n",
    "\n",
    "    if col in [\"equipment_tags\", \"line_tags\"]:\n",
    "        # Convert each comma‐separated string into a set of stripped items\n",
    "        set0 = set(item.strip() for item in v0.split(\",\") if isinstance(v0, str) and item.strip())\n",
    "        set1 = set(item.strip() for item in v1.split(\",\") if isinstance(v1, str) and item.strip())\n",
    "        comparison[col] = (set0 == set1)\n",
    "    else:\n",
    "        # Exact equality for all other columns\n",
    "        comparison[col] = (v0 == v1)\n",
    "\n",
    "# 4. Append the comparison row to df_compare\n",
    "df_compare = pd.concat([df_compare, pd.DataFrame([comparison])], ignore_index=True)\n",
    "\n",
    "print(df_compare)"
   ]
  },
  {
   "cell_type": "code",
   "execution_count": 0,
   "metadata": {
    "application/vnd.databricks.v1+cell": {
     "cellMetadata": {
      "byteLimit": 2048000,
      "rowLimit": 10000
     },
     "inputWidgets": {},
     "nuid": "73f72d04-6fb3-4604-9b9e-149c84dd5fe4",
     "showTitle": false,
     "tableResultSettingsMap": {},
     "title": ""
    }
   },
   "outputs": [],
   "source": [
    "df_compare"
   ]
  },
  {
   "cell_type": "code",
   "execution_count": 0,
   "metadata": {
    "application/vnd.databricks.v1+cell": {
     "cellMetadata": {
      "byteLimit": 2048000,
      "rowLimit": 10000
     },
     "inputWidgets": {},
     "nuid": "8f2a9e5e-5ec2-449c-8444-2469187acee0",
     "showTitle": false,
     "tableResultSettingsMap": {},
     "title": ""
    }
   },
   "outputs": [],
   "source": [
    "df_compare.to_csv(\"df_compare.csv\", index=False)"
   ]
  }
 ],
 "metadata": {
  "application/vnd.databricks.v1+notebook": {
   "computePreferences": {
    "hardware": {
     "accelerator": null,
     "gpuPoolId": null,
     "memory": null
    }
   },
   "dashboards": [],
   "environmentMetadata": {
    "base_environment": "",
    "environment_version": "2"
   },
   "inputWidgetPreferences": null,
   "language": "python",
   "notebookMetadata": {
    "pythonIndentUnit": 2
   },
   "notebookName": "(Clone) 02_parsing",
   "widgets": {}
  },
  "language_info": {
   "name": "python"
  }
 },
 "nbformat": 4,
 "nbformat_minor": 0
}
