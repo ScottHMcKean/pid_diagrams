{
 "cells": [
  {
   "cell_type": "markdown",
   "metadata": {
    "application/vnd.databricks.v1+cell": {
     "cellMetadata": {
      "byteLimit": 2048000,
      "rowLimit": 10000
     },
     "inputWidgets": {},
     "nuid": "09c39a03-4309-4466-8fdd-2374e34b3fe9",
     "showTitle": false,
     "tableResultSettingsMap": {},
     "title": ""
    }
   },
   "source": [
    "# Metadata Then Tags\n",
    "We showed that tiles are the path forward for tag extraction. But that the model is hallucinating titles that don't exist. In order to improve our metadata capture, we are going to do two passes on the image. The first is a few-shot extraction of image metadata - titles, locations, revisions etc. The second is a tile by tile few shot extraction where we will curate samples ourselves to guide the model"
   ]
  },
  {
   "cell_type": "code",
   "execution_count": 0,
   "metadata": {
    "application/vnd.databricks.v1+cell": {
     "cellMetadata": {
      "byteLimit": 2048000,
      "rowLimit": 10000
     },
     "inputWidgets": {},
     "nuid": "a62e8876-c38b-4400-82ac-97b3dc54cee7",
     "showTitle": false,
     "tableResultSettingsMap": {},
     "title": ""
    }
   },
   "outputs": [],
   "source": [
    "%pip install mlflow openai\n",
    "%restart_python"
   ]
  },
  {
   "cell_type": "code",
   "execution_count": 0,
   "metadata": {
    "application/vnd.databricks.v1+cell": {
     "cellMetadata": {
      "byteLimit": 2048000,
      "rowLimit": 10000
     },
     "inputWidgets": {},
     "nuid": "d1b99cf0-68d2-4fa5-a73f-b1dadf60702a",
     "showTitle": false,
     "tableResultSettingsMap": {},
     "title": ""
    }
   },
   "outputs": [],
   "source": [
    "from pathlib import Path\n",
    "from openai import OpenAI\n",
    "import base64\n",
    "from PIL import Image\n",
    "import IPython.display as display"
   ]
  },
  {
   "cell_type": "code",
   "execution_count": 0,
   "metadata": {
    "application/vnd.databricks.v1+cell": {
     "cellMetadata": {
      "byteLimit": 2048000,
      "rowLimit": 10000
     },
     "inputWidgets": {},
     "nuid": "fbc26c81-1542-44ad-8657-7fb815f705fd",
     "showTitle": false,
     "tableResultSettingsMap": {},
     "title": ""
    }
   },
   "outputs": [],
   "source": [
    "from mlflow.models import ModelConfig\n",
    "config = ModelConfig(development_config=\"config_alb.yaml\").to_dict()"
   ]
  },
  {
   "cell_type": "code",
   "execution_count": 0,
   "metadata": {
    "application/vnd.databricks.v1+cell": {
     "cellMetadata": {
      "byteLimit": 2048000,
      "rowLimit": 10000
     },
     "inputWidgets": {},
     "nuid": "611572aa-b643-441c-825d-9d9f5a80369c",
     "showTitle": false,
     "tableResultSettingsMap": {},
     "title": ""
    }
   },
   "outputs": [],
   "source": [
    "DATABRICKS_TOKEN = dbutils.notebook.entry_point.getDbutils().notebook().getContext().apiToken().get()\n",
    "\n",
    "client = OpenAI(\n",
    "  api_key=DATABRICKS_TOKEN,\n",
    "  base_url=\"https://adb-984752964297111.11.azuredatabricks.net/serving-endpoints\"\n",
    ")"
   ]
  },
  {
   "cell_type": "markdown",
   "metadata": {
    "application/vnd.databricks.v1+cell": {
     "cellMetadata": {
      "byteLimit": 2048000,
      "rowLimit": 10000
     },
     "inputWidgets": {},
     "nuid": "7e221590-88aa-4aa3-8761-f6bee0c06fc4",
     "showTitle": false,
     "tableResultSettingsMap": {},
     "title": ""
    }
   },
   "source": [
    "## Metadata Extraction\n"
   ]
  },
  {
   "cell_type": "code",
   "execution_count": 0,
   "metadata": {
    "application/vnd.databricks.v1+cell": {
     "cellMetadata": {
      "byteLimit": 2048000,
      "rowLimit": 10000
     },
     "inputWidgets": {},
     "nuid": "23c32776-ef11-4a2b-8e43-1aa0bcfbf044",
     "showTitle": false,
     "tableResultSettingsMap": {},
     "title": ""
    }
   },
   "outputs": [],
   "source": [
    "load_sheet_df = spark.sql(\"SELECT * FROM shm.pid.load_sheet_alb\")\n",
    "\n",
    "examples_df = (\n",
    "  load_sheet_df\n",
    "  .filter(load_sheet_df.for_examples == True)\n",
    "  .toPandas()\n",
    ")\n",
    "\n",
    "# Get the image path\n",
    "# TODO: Abstract a bit more\n",
    "examples_df[\"image_path\"] = examples_df[\"closest_filename\"].apply(lambda x: Path(config[\"processed_path\"] + x.replace(\".pdf\", \"\") + \"/\" + x.replace(\".pdf\", \"\") + \"_page_1.jpeg\"))"
   ]
  },
  {
   "cell_type": "code",
   "execution_count": 0,
   "metadata": {
    "application/vnd.databricks.v1+cell": {
     "cellMetadata": {
      "byteLimit": 2048000,
      "rowLimit": 10000
     },
     "inputWidgets": {},
     "nuid": "55a97805-1ac0-438d-949a-e7b88bd57235",
     "showTitle": false,
     "tableResultSettingsMap": {},
     "title": ""
    }
   },
   "outputs": [],
   "source": [
    "examples_df"
   ]
  },
  {
   "cell_type": "markdown",
   "metadata": {
    "application/vnd.databricks.v1+cell": {
     "cellMetadata": {},
     "inputWidgets": {},
     "nuid": "76847d49-84a4-4d76-9444-d274865558a3",
     "showTitle": false,
     "tableResultSettingsMap": {},
     "title": ""
    }
   },
   "source": [
    "## Few Shot Metadata Parsing\n",
    "Testing metadata extraction only"
   ]
  },
  {
   "cell_type": "code",
   "execution_count": 0,
   "metadata": {
    "application/vnd.databricks.v1+cell": {
     "cellMetadata": {
      "byteLimit": 2048000,
      "rowLimit": 10000
     },
     "inputWidgets": {},
     "nuid": "16d838a7-fa2c-4d8e-baf6-42a6ccc8d60c",
     "showTitle": false,
     "tableResultSettingsMap": {},
     "title": ""
    }
   },
   "outputs": [],
   "source": [
    "test_page_path = examples_df.loc[7, \"image_path\"]\n",
    "test_image = Image.open(test_page_path)\n",
    "display.display(test_image)"
   ]
  },
  {
   "cell_type": "code",
   "execution_count": 0,
   "metadata": {
    "application/vnd.databricks.v1+cell": {
     "cellMetadata": {
      "byteLimit": 2048000,
      "rowLimit": 10000
     },
     "collapsed": true,
     "inputWidgets": {},
     "nuid": "942a47b5-f4aa-495c-af19-1d26b8fd5828",
     "showTitle": false,
     "tableResultSettingsMap": {},
     "title": ""
    }
   },
   "outputs": [],
   "source": [
    "import pandas as pd\n",
    "def few_shot_parse_metadata(image_path: str, examples: pd.DataFrame):\n",
    "  image_data = base64.b64encode(Path(image_path).read_bytes()).decode(\"utf-8\")\n",
    "\n",
    "  content = []\n",
    "  for idx, example in examples.iterrows():\n",
    "    example_text = example['json_output']\n",
    "    image_path = Path(example['image_path'])\n",
    "    example_data = base64.b64encode(image_path.read_bytes()).decode(\"utf-8\")\n",
    "    content.append({\n",
    "        \"type\": \"image_url\", \n",
    "        \"image_url\": {\"url\": f\"data:image/jpeg;base64,{example_data}\"},\n",
    "      })\n",
    "    content.append({\n",
    "      \"type\": \"text\",\n",
    "      \"text\": example_text\n",
    "    })\n",
    "    \n",
    "  content.append({\n",
    "    \"type\": \"image_url\", \"image_url\": \n",
    "    {\"url\": f\"data:image/jpeg;base64,{image_data}\"}\n",
    "    })\n",
    "\n",
    "  chat_completion = client.chat.completions.create(\n",
    "    messages=[\n",
    "      {\n",
    "        \"role\": \"system\",\n",
    "        \"content\": config['metadata_prompt']\n",
    "      },\n",
    "      {\n",
    "        \"role\": \"user\",\n",
    "        \"content\": content\n",
    "      }\n",
    "    ],\n",
    "    model=config['fm_endpoint'],\n",
    "    temperature=config['temperature'],\n",
    "    top_p=config['top_p']\n",
    "  )\n",
    "\n",
    "  parsed_text = chat_completion.choices[0].message.content\n",
    "  return parsed_text"
   ]
  },
  {
   "cell_type": "code",
   "execution_count": 0,
   "metadata": {
    "application/vnd.databricks.v1+cell": {
     "cellMetadata": {
      "byteLimit": 2048000,
      "rowLimit": 10000
     },
     "inputWidgets": {},
     "nuid": "d762c84c-5319-481b-9fd2-b9e6c530c17a",
     "showTitle": false,
     "tableResultSettingsMap": {},
     "title": ""
    }
   },
   "outputs": [],
   "source": [
    "few_shot_parse_metadata(test_page_path, pd.DataFrame())"
   ]
  },
  {
   "cell_type": "markdown",
   "metadata": {
    "application/vnd.databricks.v1+cell": {
     "cellMetadata": {},
     "inputWidgets": {},
     "nuid": "db5dfde2-7231-40ad-8d7a-5a801d934517",
     "showTitle": false,
     "tableResultSettingsMap": {},
     "title": ""
    }
   },
   "source": [
    "## Few Shot Tile Tag Extraction\n"
   ]
  },
  {
   "cell_type": "code",
   "execution_count": 0,
   "metadata": {
    "application/vnd.databricks.v1+cell": {
     "cellMetadata": {
      "byteLimit": 2048000,
      "rowLimit": 10000
     },
     "collapsed": true,
     "inputWidgets": {},
     "nuid": "358a9398-48ed-4bd8-9e63-5e32b7c33b91",
     "showTitle": false,
     "tableResultSettingsMap": {},
     "title": ""
    }
   },
   "outputs": [],
   "source": [
    "import pandas as pd\n",
    "def few_shot_parse_tags(image_path: str, examples: pd.DataFrame):\n",
    "  image_data = base64.b64encode(Path(image_path).read_bytes()).decode(\"utf-8\")\n",
    "\n",
    "  content = []\n",
    "  for idx, example in examples.iterrows():\n",
    "    example_text = example['json_output']\n",
    "    image_path = Path(example['image_path'])\n",
    "    example_data = base64.b64encode(image_path.read_bytes()).decode(\"utf-8\")\n",
    "    content.append({\n",
    "        \"type\": \"image_url\", \n",
    "        \"image_url\": {\"url\": f\"data:image/jpeg;base64,{example_data}\"},\n",
    "      })\n",
    "    content.append({\n",
    "      \"type\": \"text\",\n",
    "      \"text\": example_text\n",
    "    })\n",
    "    \n",
    "  content.append({\n",
    "    \"type\": \"image_url\", \"image_url\": \n",
    "    {\"url\": f\"data:image/jpeg;base64,{image_data}\"}\n",
    "    })\n",
    "\n",
    "  chat_completion = client.chat.completions.create(\n",
    "    messages=[\n",
    "      {\n",
    "        \"role\": \"system\",\n",
    "        \"content\": config['tag_prompt']\n",
    "      },\n",
    "      {\n",
    "        \"role\": \"user\",\n",
    "        \"content\": content\n",
    "      }\n",
    "    ],\n",
    "    model=config['fm_endpoint'],\n",
    "    temperature=config['temperature'],\n",
    "    top_p=config['top_p']\n",
    "  )\n",
    "\n",
    "  parsed_text = chat_completion.choices[0].message.content\n",
    "  return parsed_text"
   ]
  },
  {
   "cell_type": "code",
   "execution_count": 0,
   "metadata": {
    "application/vnd.databricks.v1+cell": {
     "cellMetadata": {
      "byteLimit": 2048000,
      "rowLimit": 10000
     },
     "inputWidgets": {},
     "nuid": "1ffe3544-e0a0-4f9d-88ae-b5eb7a26395a",
     "showTitle": false,
     "tableResultSettingsMap": {},
     "title": ""
    }
   },
   "outputs": [],
   "source": [
    "test_tile_path = \"/Volumes/shm/pid/tiled_pdfs/with_load_sheet/MRP-520-PID-PR-000351_F267/MRP-520-PID-PR-000351_F267.1_page_1_tile_4.webp\"\n",
    "test_tile = Image.open(test_tile_path)\n",
    "display.display(test_tile)"
   ]
  },
  {
   "cell_type": "code",
   "execution_count": 0,
   "metadata": {
    "application/vnd.databricks.v1+cell": {
     "cellMetadata": {
      "byteLimit": 2048000,
      "rowLimit": 10000
     },
     "inputWidgets": {},
     "nuid": "1746c4af-dd2c-431d-8bdd-d589d11a4910",
     "showTitle": false,
     "tableResultSettingsMap": {},
     "title": ""
    }
   },
   "outputs": [],
   "source": [
    "examples = examples_df.iloc[[7]]\n",
    "inf_few_shot_tags = few_shot_parse_tags(test_tile_path, examples)"
   ]
  },
  {
   "cell_type": "code",
   "execution_count": 0,
   "metadata": {
    "application/vnd.databricks.v1+cell": {
     "cellMetadata": {
      "byteLimit": 2048000,
      "rowLimit": 10000
     },
     "inputWidgets": {},
     "nuid": "41aa08c2-b222-4ca4-a414-e7a4f8a4a785",
     "showTitle": false,
     "tableResultSettingsMap": {},
     "title": ""
    }
   },
   "outputs": [],
   "source": [
    "inf_few_shot_tags"
   ]
  }
 ],
 "metadata": {
  "application/vnd.databricks.v1+notebook": {
   "computePreferences": {
    "hardware": {
     "accelerator": null,
     "gpuPoolId": null,
     "memory": null
    }
   },
   "dashboards": [],
   "environmentMetadata": {
    "base_environment": "",
    "environment_version": "2"
   },
   "inputWidgetPreferences": null,
   "language": "python",
   "notebookMetadata": {
    "pythonIndentUnit": 2
   },
   "notebookName": "03_metadata_then_tags",
   "widgets": {}
  },
  "language_info": {
   "name": "python"
  }
 },
 "nbformat": 4,
 "nbformat_minor": 0
}
